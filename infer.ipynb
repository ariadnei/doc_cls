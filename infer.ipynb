{
 "cells": [
  {
   "cell_type": "code",
   "execution_count": 1,
   "id": "15f649b2-25ef-4920-a358-aedd0416f74e",
   "metadata": {},
   "outputs": [
    {
     "name": "stderr",
     "output_type": "stream",
     "text": [
      "C:\\Users\\User\\anaconda3\\lib\\site-packages\\sklearn\\base.py:299: UserWarning: Trying to unpickle estimator MultiLabelBinarizer from version 1.0.2 when using version 1.2.1. This might lead to breaking code or invalid results. Use at your own risk. For more info please refer to:\n",
      "https://scikit-learn.org/stable/model_persistence.html#security-maintainability-limitations\n",
      "  warnings.warn(\n",
      "C:\\Users\\User\\anaconda3\\lib\\site-packages\\sklearn\\base.py:299: UserWarning: Trying to unpickle estimator TfidfTransformer from version 1.0.2 when using version 1.2.1. This might lead to breaking code or invalid results. Use at your own risk. For more info please refer to:\n",
      "https://scikit-learn.org/stable/model_persistence.html#security-maintainability-limitations\n",
      "  warnings.warn(\n",
      "C:\\Users\\User\\anaconda3\\lib\\site-packages\\sklearn\\base.py:299: UserWarning: Trying to unpickle estimator TfidfVectorizer from version 1.0.2 when using version 1.2.1. This might lead to breaking code or invalid results. Use at your own risk. For more info please refer to:\n",
      "https://scikit-learn.org/stable/model_persistence.html#security-maintainability-limitations\n",
      "  warnings.warn(\n",
      "[nltk_data] Downloading package punkt to\n",
      "[nltk_data]     C:\\Users\\User\\AppData\\Roaming\\nltk_data...\n",
      "[nltk_data]   Package punkt is already up-to-date!\n",
      "[nltk_data] Downloading package stopwords to\n",
      "[nltk_data]     C:\\Users\\User\\AppData\\Roaming\\nltk_data...\n",
      "[nltk_data]   Package stopwords is already up-to-date!\n"
     ]
    }
   ],
   "source": [
    "from utils import predict_class\n",
    "import pickle"
   ]
  },
  {
   "cell_type": "code",
   "execution_count": 2,
   "id": "23eae698-339b-4444-9438-02ad1eef8445",
   "metadata": {},
   "outputs": [],
   "source": [
    "text = 'HOUSTON, Nov. 18, 2021 /PRNewswire/ --\\xa0Alert Logic\\xa0today announced extended SOAR capabilities as part of its comprehensive managed detection and response (MDR) solution. With ransomware attacks and staff shortages on the rise, organizations are increasingly entrusting cybersecurity partners that bring proven technology and a deep bench of experts to help minimize damage and disruption to their operations. Alert Logic MDR with Alert Logic Intelligent Response ensures customers have a flexible, scalable, and integrated approach to protect their entire IT estate.Alert Logic Comprehensive Intelligent Response for MDRAccording to a report by 451 Research, part of S&P Global Market Intelligence, commissioned by Alert Logic, \"Automated response, infused with human decision points, can dramatically improve incident resolution capabilities and eliminate many of the repetitive tasks that are overwhelming IT and security teams and hindering rapid response. At the same time, human-guided automation helps facilitate the building of trust in playbooks, automated response actions, and the recommendations provided by threat detection and response providers. As organizations experience the benefits of automated response, they are becoming more comfortable with implementing it on a greater scale.\"1Alert Logic customers provided guidance and expertise over the last 12 months to optimize the company\\'s intelligent response capabilities. By implementing and testing automated security response playbooks and use cases for AWS environments, customers helped define Alert Logic\\'s new intelligent response capabilities and future innovations.Broad Detection Underpins an Effective Response StrategyAlert Logic has invested in a broad log ingestion ecosystem, scaling outcomes through analytics while implementing machine learning and building extensions into IT and security platforms through API-based connections. Alert Logic MDR provides visibility into pre- and post-breach environments, analyzing data and producing actionable insights, enabling response actions across network, endpoint, and cloud environments. These response actions include notifying, containing, and eliminating threats, and more.Tailored User Experience Provides Flexibility and ControlAlert Logic will deliver a simplified wizard-based user experience, giving customers the option of easing into automated response, while customizable playbooks are geared to more sophisticated security teams. Both options can leverage pre-built workflow templates. Alert Logic\\'s configurable response workflows enable organizations to strike the optimal balance of process automation and human interaction to address their evolving security requirements. Users can also utilize a newly designed mobile application to simplify human-guided response, specifying what response actions they want deployed when and how.Integrations Enable Effective CommunicationIn many cases, communicating an action throughout the organization is as important as the action itself. By utilizing existing integrations with Alert Logic MDR, customers can be notified by the tools they already use, such as Slack, Microsoft Teams, Jira, ServiceNow, and email platforms.\"Malware and ransomware threats are not going anywhere. They are relentless in their pursuit of an exploit, which means comprehensive and rapid response to threats is absolutely imperative,\" said Onkar Birk, Chief Operating Officer and CTO, Alert Logic. \"Alert Logic is committed to continuous innovation to ensure our customers always have the most effective 24/7 pre- and post-breach protection. With today\\'s announcement, our industry-leading MDR platform and unrivaled team of security experts are further strengthened in that pursuit.\"To see how intelligent response fits into your cybersecurity strategy, visit https://www.alertlogic.com/intelligent-response/\\xa0to schedule a live demo and download the 451 Research Pathfinder: Practical Requirements for Responding to Cyberthreats with MDR.1451 Research, part of S&P Global Market Intelligence – Practical Requirements for Responding to Cyberthreats with MDRAbout Alert LogicAlert Logic is the only managed detection and response (MDR) provider that delivers comprehensive coverage for public clouds, SaaS, on-premises, and hybrid environments. Since no level of investment prevents or blocks 100% of attacks, you need to continuously identify and address breaches or gaps before they cause real damage. With limited expertise and a cloud-centric strategy, this level of security can seem out of reach. Our cloud-native technology and white-glove team of security experts protect your organization 24/7 and ensure you have the most effective response to resolve whatever threats may come. Founded in 2002, Alert Logic is headquartered in Houston, Texas and has business operations, team members, and channel partners located worldwide. Learn more at alertlogic.com. Alert Logic – unrivaled security for your cloud journey.Alert Logic® is a registered trademark of Alert Logic, Inc.Alert Logic MDR™ and Alert Logic Intelligent Response™ are trademarks of Alert Logic, Inc.All other trademarks listed herein are owned by their respective companies.For Alert Logic Inquiries:Bob WientzenPublic RelationsAlert Logic281-456-4254bob.wientzen@alertlogic.comAlert Logic logo (PRNewsfoto/Alert Logic)View original content to download multimedia:SOURCE Alert LogicThe above press release was provided courtesy of PRNewswire. The views, opinions and statements in the press release are not endorsed by Gray Media Group nor do they necessarily state or reflect those of Gray Media Group, Inc.'"
   ]
  },
  {
   "cell_type": "code",
   "execution_count": 3,
   "id": "bf82eca8-a683-4dc8-b496-a702fa8a8ea0",
   "metadata": {},
   "outputs": [
    {
     "name": "stderr",
     "output_type": "stream",
     "text": [
      "C:\\Users\\User\\anaconda3\\lib\\site-packages\\sklearn\\base.py:299: UserWarning: Trying to unpickle estimator DecisionTreeClassifier from version 1.0.2 when using version 1.2.1. This might lead to breaking code or invalid results. Use at your own risk. For more info please refer to:\n",
      "https://scikit-learn.org/stable/model_persistence.html#security-maintainability-limitations\n",
      "  warnings.warn(\n",
      "C:\\Users\\User\\anaconda3\\lib\\site-packages\\sklearn\\base.py:299: UserWarning: Trying to unpickle estimator MultiOutputClassifier from version 1.0.2 when using version 1.2.1. This might lead to breaking code or invalid results. Use at your own risk. For more info please refer to:\n",
      "https://scikit-learn.org/stable/model_persistence.html#security-maintainability-limitations\n",
      "  warnings.warn(\n"
     ]
    }
   ],
   "source": [
    "model_filepath = 'models/dec_tree.sav'\n",
    "dec_tree_clf = pickle.load(open(model_filepath, 'rb'))"
   ]
  },
  {
   "cell_type": "code",
   "execution_count": 5,
   "id": "faec45be-c86d-42de-8c43-a28c287d495c",
   "metadata": {},
   "outputs": [
    {
     "data": {
      "text/plain": [
       "['CASB']"
      ]
     },
     "execution_count": 5,
     "metadata": {},
     "output_type": "execute_result"
    }
   ],
   "source": [
    "predict_class(text, dec_tree_clf)"
   ]
  },
  {
   "cell_type": "code",
   "execution_count": null,
   "id": "3edeef87-23d6-42eb-a0ba-51526c437292",
   "metadata": {},
   "outputs": [],
   "source": []
  }
 ],
 "metadata": {
  "kernelspec": {
   "display_name": "Python 3 (ipykernel)",
   "language": "python",
   "name": "python3"
  },
  "language_info": {
   "codemirror_mode": {
    "name": "ipython",
    "version": 3
   },
   "file_extension": ".py",
   "mimetype": "text/x-python",
   "name": "python",
   "nbconvert_exporter": "python",
   "pygments_lexer": "ipython3",
   "version": "3.10.9"
  }
 },
 "nbformat": 4,
 "nbformat_minor": 5
}
