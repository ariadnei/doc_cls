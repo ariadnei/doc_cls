{
 "cells": [
  {
   "cell_type": "code",
   "execution_count": 4,
   "id": "c0e0374a-c35f-4dc1-bb36-3b1a91dc03bb",
   "metadata": {
    "tags": []
   },
   "outputs": [],
   "source": [
    "import pandas as pd\n",
    "import os"
   ]
  },
  {
   "cell_type": "code",
   "execution_count": 5,
   "id": "28b31d09-999a-473a-881c-8cca42a54917",
   "metadata": {
    "tags": []
   },
   "outputs": [],
   "source": [
    "files = [name if name.endswith('.csv') else '' for name in os.listdir('../data')]"
   ]
  },
  {
   "cell_type": "code",
   "execution_count": 6,
   "id": "3776e599-3337-4a02-9c24-a5e192da2d3c",
   "metadata": {
    "tags": []
   },
   "outputs": [
    {
     "data": {
      "text/plain": [
       "['ransomware_detect.csv',\n",
       " 'application_control.csv',\n",
       " 'SIEM.csv',\n",
       " 'system_tweak.csv',\n",
       " 'EDR.csv',\n",
       " 'MDR.csv',\n",
       " 'anti-counterfeit.csv',\n",
       " 'NGFW.csv',\n",
       " 'unwanted_programs.csv',\n",
       " 'atm_security.csv',\n",
       " 'SOAR.csv',\n",
       " 'CASB.csv',\n",
       " 'spyware_detect.csv',\n",
       " 'industrial_iot_security.csv',\n",
       " 'malware_detect.csv',\n",
       " 'honeypot.csv',\n",
       " 'NDR.csv',\n",
       " 'sandbox.csv',\n",
       " 'parental_control.csv',\n",
       " 'SASE.csv']"
      ]
     },
     "execution_count": 6,
     "metadata": {},
     "output_type": "execute_result"
    }
   ],
   "source": [
    "files"
   ]
  },
  {
   "cell_type": "code",
   "execution_count": 7,
   "id": "bdf33b00-c73c-4201-abca-b8b910d62c69",
   "metadata": {
    "tags": []
   },
   "outputs": [],
   "source": [
    "import re\n",
    "import nltk\n",
    "import string\n",
    "from nltk.tokenize import word_tokenize\n",
    "from nltk.corpus import stopwords\n",
    "import spacy\n",
    "from tqdm import tqdm"
   ]
  },
  {
   "cell_type": "code",
   "execution_count": 8,
   "id": "d624c71c-38a3-4f3f-98a0-6b6b795e4af0",
   "metadata": {
    "tags": []
   },
   "outputs": [
    {
     "name": "stderr",
     "output_type": "stream",
     "text": [
      "[nltk_data] Downloading package punkt to /root/nltk_data...\n",
      "[nltk_data]   Package punkt is already up-to-date!\n"
     ]
    },
    {
     "data": {
      "text/plain": [
       "True"
      ]
     },
     "execution_count": 8,
     "metadata": {},
     "output_type": "execute_result"
    }
   ],
   "source": [
    "nltk.download('punkt')"
   ]
  },
  {
   "cell_type": "code",
   "execution_count": 9,
   "id": "f1fac36f-7961-48ce-9498-f2a20e5019c8",
   "metadata": {
    "tags": []
   },
   "outputs": [
    {
     "name": "stderr",
     "output_type": "stream",
     "text": [
      "[nltk_data] Downloading package stopwords to /root/nltk_data...\n",
      "[nltk_data]   Package stopwords is already up-to-date!\n"
     ]
    },
    {
     "data": {
      "text/plain": [
       "True"
      ]
     },
     "execution_count": 9,
     "metadata": {},
     "output_type": "execute_result"
    }
   ],
   "source": [
    "nltk.download('stopwords')"
   ]
  },
  {
   "cell_type": "code",
   "execution_count": 21,
   "id": "0a491e7a-6054-4d34-8213-79406986783d",
   "metadata": {
    "tags": []
   },
   "outputs": [],
   "source": [
    "nlp = spacy.load('en_core_web_sm', disable=['parser', 'ner'])\n",
    "nlp.max_length = 1500000\n",
    "def clean_text(df):\n",
    "    # download list of countries\n",
    "    with open('countries.txt', 'r') as f:\n",
    "        init_countries = f.readlines()\n",
    "        countries = [c.lower()[:-1] for c in init_countries]\n",
    "    all_reviews = list()\n",
    "    lines = df[\"summary\"].values.tolist()\n",
    "    for text in tqdm(lines):\n",
    "        text = text.lower()\n",
    "        text = re.sub(r\"\\xa0\", \" \", text)\n",
    "        \n",
    "        # remove links\n",
    "        pattern = re.compile('http[s]?://(?:[a-zA-Z]|[0-9]|[$-_@.&+]|[!*\\(\\),]|(?:%[0-9a-fA-F][0-9a-fA-F]))+')\n",
    "        text = pattern.sub('', text)\n",
    "        text = re.sub(r\"www\\.(?:[a-zA-Z]|[0-9]|[$-_@.&+]|[!*\\(\\),]|(?:%[0-9a-fA-F][0-9a-fA-F]))+\", \"\", text)\n",
    "        text = re.sub(r\"[\\w\\d_\\-]+[\\w\\d_\\-]+\\.[\\w\\d]{2,}\", \"\", text)\n",
    "        \n",
    "        # dynamic reg_exp to remove country names\n",
    "        for country in countries:\n",
    "            pattern = re.compile(country)\n",
    "            text = pattern.sub('COUNTRYNAME', text)\n",
    "\n",
    "        # remove nums concatenated with texts\n",
    "        text = re.sub(r\"(?<=[a-zA-Z])(\\d+\\.*)+\", \"\", text)\n",
    "\n",
    "        # replace num years to YEAR\n",
    "        text = re.sub(r\"[1|2]\\d{3}\", \"YEARNUM\", text)\n",
    "\n",
    "        # remove nums with dot\n",
    "        text = re.sub(r\"(\\d+\\.*)+\", \"\", text)\n",
    "\n",
    "        # remove email\n",
    "        text = re.sub(r\"[\\w\\d_\\-]+@[\\w\\d_\\-]+\\.[\\w\\d]{2,}\", \"\", text)\n",
    "\n",
    "        # remove punctuations\n",
    "        text = re.sub(r\"[,.\\\"'!@#$%^&*(){}?/;`~:<>+=\\|•_]\", \" \", text)\n",
    "        text = re.sub(r\"\\s+\", \" \", text)\n",
    "        text = re.sub(r\" - \", \" \", text)\n",
    "        text = re.sub(r\"-{2,}\", \" \", text)\n",
    "        \n",
    "        text = re.sub(r\"-\", \"dashh\", text)\n",
    "        \n",
    "        # remove non-ASCII characters\n",
    "        text = re.sub(r\"[\\w\\d]*[^\\x00-\\x7F]+[\\w\\d]*\", '', text)\n",
    "        \n",
    "        text = re.sub(r\"\\s+\", ' ', text)\n",
    "        \n",
    "        text = text.strip()\n",
    "        \n",
    "        tokens = word_tokenize(text)\n",
    "        \n",
    "        # leave only words\n",
    "        words = [word for word in tokens if word.isalpha()]\n",
    "        \n",
    "        words = [re.sub(r\"dashh\", '-', word) for word in tokens]\n",
    "        \n",
    "        stop_words = set(stopwords.words(\"english\"))\n",
    "        \n",
    "        words = [w for w in words if not w in stop_words]\n",
    "        words = ' '.join(words)\n",
    "        \n",
    "        doc = nlp(words)\n",
    "        res = \" \".join([token.lemma_ for token in doc])\n",
    "        res = re.sub(r\" - \", '-', res)\n",
    "        all_reviews.append(res)\n",
    "    return all_reviews"
   ]
  },
  {
   "cell_type": "code",
   "execution_count": 13,
   "id": "826f5a4b-23da-4259-974e-2a0b392b4284",
   "metadata": {
    "tags": []
   },
   "outputs": [],
   "source": [
    "import statistics\n",
    "def get_len_text(text):\n",
    "    return len(text.split())\n",
    "\n",
    "stats = {\n",
    "    'name': [],\n",
    "    'num_exp': [],\n",
    "    'lens': [],\n",
    "    'min_len': [],\n",
    "    'max_len': [],\n",
    "    'med_len': []\n",
    "}\n",
    "\n",
    "for file_name in files:\n",
    "    #print(file_name)\n",
    "    if file_name:\n",
    "        class_name = re.sub(r\"\\.csv\", '', file_name)\n",
    "        df = pd.read_csv('data/' + file_name)\n",
    "        df = df.dropna(subset=['summary'])\n",
    "        df['len_text'] = df['summary'].apply(get_len_text)\n",
    "        stats['name'].append(class_name)\n",
    "        stats['num_exp'].append(df.shape[0])\n",
    "        stats['lens'].append(df['len_text'].values.tolist())\n",
    "        stats['min_len'].append(min(df['len_text'].values.tolist()))\n",
    "        stats['max_len'].append(max(df['len_text'].values.tolist()))\n",
    "        stats['med_len'].append(statistics.median(df['len_text'].values.tolist()))"
   ]
  },
  {
   "cell_type": "code",
   "execution_count": 14,
   "id": "002722a1-ae33-4c1d-b17a-a6e4025af34b",
   "metadata": {
    "tags": []
   },
   "outputs": [
    {
     "data": {
      "text/html": [
       "<div>\n",
       "<style scoped>\n",
       "    .dataframe tbody tr th:only-of-type {\n",
       "        vertical-align: middle;\n",
       "    }\n",
       "\n",
       "    .dataframe tbody tr th {\n",
       "        vertical-align: top;\n",
       "    }\n",
       "\n",
       "    .dataframe thead th {\n",
       "        text-align: right;\n",
       "    }\n",
       "</style>\n",
       "<table border=\"1\" class=\"dataframe\">\n",
       "  <thead>\n",
       "    <tr style=\"text-align: right;\">\n",
       "      <th></th>\n",
       "      <th>name</th>\n",
       "      <th>num_exp</th>\n",
       "      <th>lens</th>\n",
       "      <th>min_len</th>\n",
       "      <th>max_len</th>\n",
       "      <th>med_len</th>\n",
       "    </tr>\n",
       "  </thead>\n",
       "  <tbody>\n",
       "    <tr>\n",
       "      <th>0</th>\n",
       "      <td>ransomware_detect</td>\n",
       "      <td>58998</td>\n",
       "      <td>[686, 466, 543, 474, 550, 384, 561, 543, 359, ...</td>\n",
       "      <td>11</td>\n",
       "      <td>9843</td>\n",
       "      <td>714.0</td>\n",
       "    </tr>\n",
       "    <tr>\n",
       "      <th>1</th>\n",
       "      <td>application_control</td>\n",
       "      <td>5231</td>\n",
       "      <td>[817, 91, 136, 174, 251, 868, 297, 381, 423, 8...</td>\n",
       "      <td>18</td>\n",
       "      <td>18530</td>\n",
       "      <td>886.0</td>\n",
       "    </tr>\n",
       "    <tr>\n",
       "      <th>2</th>\n",
       "      <td>SIEM</td>\n",
       "      <td>6900</td>\n",
       "      <td>[104, 676, 979, 728, 728, 699, 728, 886, 728, ...</td>\n",
       "      <td>2</td>\n",
       "      <td>24093</td>\n",
       "      <td>818.5</td>\n",
       "    </tr>\n",
       "    <tr>\n",
       "      <th>3</th>\n",
       "      <td>system_tweak</td>\n",
       "      <td>3775</td>\n",
       "      <td>[525, 2567, 1582, 559, 842, 614, 411, 1244, 17...</td>\n",
       "      <td>20</td>\n",
       "      <td>212343</td>\n",
       "      <td>1193.0</td>\n",
       "    </tr>\n",
       "    <tr>\n",
       "      <th>4</th>\n",
       "      <td>EDR</td>\n",
       "      <td>11670</td>\n",
       "      <td>[122, 1871, 1631, 881, 1081, 93, 1273, 761, 75...</td>\n",
       "      <td>5</td>\n",
       "      <td>8077</td>\n",
       "      <td>785.0</td>\n",
       "    </tr>\n",
       "    <tr>\n",
       "      <th>5</th>\n",
       "      <td>MDR</td>\n",
       "      <td>10537</td>\n",
       "      <td>[548, 2245, 941, 734, 434, 873, 1044, 672, 610...</td>\n",
       "      <td>16</td>\n",
       "      <td>37648</td>\n",
       "      <td>650.0</td>\n",
       "    </tr>\n",
       "    <tr>\n",
       "      <th>6</th>\n",
       "      <td>anti-counterfeit</td>\n",
       "      <td>32343</td>\n",
       "      <td>[2070, 588, 128, 883, 946, 1095, 745, 622, 458...</td>\n",
       "      <td>1</td>\n",
       "      <td>46664</td>\n",
       "      <td>790.0</td>\n",
       "    </tr>\n",
       "    <tr>\n",
       "      <th>7</th>\n",
       "      <td>NGFW</td>\n",
       "      <td>2278</td>\n",
       "      <td>[95, 672, 796, 2065, 385, 975, 733, 1348, 806,...</td>\n",
       "      <td>5</td>\n",
       "      <td>5101</td>\n",
       "      <td>749.0</td>\n",
       "    </tr>\n",
       "    <tr>\n",
       "      <th>8</th>\n",
       "      <td>unwanted_programs</td>\n",
       "      <td>82503</td>\n",
       "      <td>[980, 685, 291, 274, 317, 360, 305, 883, 316, ...</td>\n",
       "      <td>1</td>\n",
       "      <td>121516</td>\n",
       "      <td>543.0</td>\n",
       "    </tr>\n",
       "    <tr>\n",
       "      <th>9</th>\n",
       "      <td>atm_security</td>\n",
       "      <td>4488</td>\n",
       "      <td>[912, 271, 181, 1512, 805, 2236, 679, 383, 896...</td>\n",
       "      <td>10</td>\n",
       "      <td>212343</td>\n",
       "      <td>812.0</td>\n",
       "    </tr>\n",
       "    <tr>\n",
       "      <th>10</th>\n",
       "      <td>SOAR</td>\n",
       "      <td>3219</td>\n",
       "      <td>[1932, 1299, 549, 743, 288, 743, 1178, 516, 15...</td>\n",
       "      <td>5</td>\n",
       "      <td>17433</td>\n",
       "      <td>689.0</td>\n",
       "    </tr>\n",
       "    <tr>\n",
       "      <th>11</th>\n",
       "      <td>CASB</td>\n",
       "      <td>5148</td>\n",
       "      <td>[288, 998, 939, 886, 164, 184, 568, 465, 782, ...</td>\n",
       "      <td>5</td>\n",
       "      <td>17433</td>\n",
       "      <td>761.0</td>\n",
       "    </tr>\n",
       "    <tr>\n",
       "      <th>12</th>\n",
       "      <td>spyware_detect</td>\n",
       "      <td>14034</td>\n",
       "      <td>[756, 1250, 835, 394, 484, 992, 667, 1408, 858...</td>\n",
       "      <td>8</td>\n",
       "      <td>121516</td>\n",
       "      <td>802.0</td>\n",
       "    </tr>\n",
       "    <tr>\n",
       "      <th>13</th>\n",
       "      <td>industrial_iot_security</td>\n",
       "      <td>56664</td>\n",
       "      <td>[346, 1031, 1028, 1030, 1032, 1018, 183, 1032,...</td>\n",
       "      <td>11</td>\n",
       "      <td>17433</td>\n",
       "      <td>891.0</td>\n",
       "    </tr>\n",
       "    <tr>\n",
       "      <th>14</th>\n",
       "      <td>malware_detect</td>\n",
       "      <td>63681</td>\n",
       "      <td>[359, 1040, 3809, 415, 866, 427, 520, 183, 75,...</td>\n",
       "      <td>1</td>\n",
       "      <td>9893</td>\n",
       "      <td>722.0</td>\n",
       "    </tr>\n",
       "    <tr>\n",
       "      <th>15</th>\n",
       "      <td>honeypot</td>\n",
       "      <td>3854</td>\n",
       "      <td>[368, 440, 191, 403, 866, 412, 81, 428, 879, 4...</td>\n",
       "      <td>5</td>\n",
       "      <td>11610</td>\n",
       "      <td>955.0</td>\n",
       "    </tr>\n",
       "    <tr>\n",
       "      <th>16</th>\n",
       "      <td>NDR</td>\n",
       "      <td>2455</td>\n",
       "      <td>[618, 614, 968, 318, 111, 608, 472, 507, 589, ...</td>\n",
       "      <td>19</td>\n",
       "      <td>5821</td>\n",
       "      <td>591.0</td>\n",
       "    </tr>\n",
       "    <tr>\n",
       "      <th>17</th>\n",
       "      <td>sandbox</td>\n",
       "      <td>8135</td>\n",
       "      <td>[927, 1000, 2142, 324, 1005, 1120, 627, 692, 1...</td>\n",
       "      <td>32</td>\n",
       "      <td>17198</td>\n",
       "      <td>982.0</td>\n",
       "    </tr>\n",
       "    <tr>\n",
       "      <th>18</th>\n",
       "      <td>parental_control</td>\n",
       "      <td>14868</td>\n",
       "      <td>[2248, 2174, 2123, 2173, 1230, 2266, 1214, 692...</td>\n",
       "      <td>4</td>\n",
       "      <td>9893</td>\n",
       "      <td>775.0</td>\n",
       "    </tr>\n",
       "    <tr>\n",
       "      <th>19</th>\n",
       "      <td>SASE</td>\n",
       "      <td>9226</td>\n",
       "      <td>[2188, 480, 931, 97, 1013, 895, 909, 887, 943,...</td>\n",
       "      <td>6</td>\n",
       "      <td>17433</td>\n",
       "      <td>770.0</td>\n",
       "    </tr>\n",
       "  </tbody>\n",
       "</table>\n",
       "</div>"
      ],
      "text/plain": [
       "                       name  num_exp  \\\n",
       "0         ransomware_detect    58998   \n",
       "1       application_control     5231   \n",
       "2                      SIEM     6900   \n",
       "3              system_tweak     3775   \n",
       "4                       EDR    11670   \n",
       "5                       MDR    10537   \n",
       "6          anti-counterfeit    32343   \n",
       "7                      NGFW     2278   \n",
       "8         unwanted_programs    82503   \n",
       "9              atm_security     4488   \n",
       "10                     SOAR     3219   \n",
       "11                     CASB     5148   \n",
       "12           spyware_detect    14034   \n",
       "13  industrial_iot_security    56664   \n",
       "14           malware_detect    63681   \n",
       "15                 honeypot     3854   \n",
       "16                      NDR     2455   \n",
       "17                  sandbox     8135   \n",
       "18         parental_control    14868   \n",
       "19                     SASE     9226   \n",
       "\n",
       "                                                 lens  min_len  max_len  \\\n",
       "0   [686, 466, 543, 474, 550, 384, 561, 543, 359, ...       11     9843   \n",
       "1   [817, 91, 136, 174, 251, 868, 297, 381, 423, 8...       18    18530   \n",
       "2   [104, 676, 979, 728, 728, 699, 728, 886, 728, ...        2    24093   \n",
       "3   [525, 2567, 1582, 559, 842, 614, 411, 1244, 17...       20   212343   \n",
       "4   [122, 1871, 1631, 881, 1081, 93, 1273, 761, 75...        5     8077   \n",
       "5   [548, 2245, 941, 734, 434, 873, 1044, 672, 610...       16    37648   \n",
       "6   [2070, 588, 128, 883, 946, 1095, 745, 622, 458...        1    46664   \n",
       "7   [95, 672, 796, 2065, 385, 975, 733, 1348, 806,...        5     5101   \n",
       "8   [980, 685, 291, 274, 317, 360, 305, 883, 316, ...        1   121516   \n",
       "9   [912, 271, 181, 1512, 805, 2236, 679, 383, 896...       10   212343   \n",
       "10  [1932, 1299, 549, 743, 288, 743, 1178, 516, 15...        5    17433   \n",
       "11  [288, 998, 939, 886, 164, 184, 568, 465, 782, ...        5    17433   \n",
       "12  [756, 1250, 835, 394, 484, 992, 667, 1408, 858...        8   121516   \n",
       "13  [346, 1031, 1028, 1030, 1032, 1018, 183, 1032,...       11    17433   \n",
       "14  [359, 1040, 3809, 415, 866, 427, 520, 183, 75,...        1     9893   \n",
       "15  [368, 440, 191, 403, 866, 412, 81, 428, 879, 4...        5    11610   \n",
       "16  [618, 614, 968, 318, 111, 608, 472, 507, 589, ...       19     5821   \n",
       "17  [927, 1000, 2142, 324, 1005, 1120, 627, 692, 1...       32    17198   \n",
       "18  [2248, 2174, 2123, 2173, 1230, 2266, 1214, 692...        4     9893   \n",
       "19  [2188, 480, 931, 97, 1013, 895, 909, 887, 943,...        6    17433   \n",
       "\n",
       "    med_len  \n",
       "0     714.0  \n",
       "1     886.0  \n",
       "2     818.5  \n",
       "3    1193.0  \n",
       "4     785.0  \n",
       "5     650.0  \n",
       "6     790.0  \n",
       "7     749.0  \n",
       "8     543.0  \n",
       "9     812.0  \n",
       "10    689.0  \n",
       "11    761.0  \n",
       "12    802.0  \n",
       "13    891.0  \n",
       "14    722.0  \n",
       "15    955.0  \n",
       "16    591.0  \n",
       "17    982.0  \n",
       "18    775.0  \n",
       "19    770.0  "
      ]
     },
     "execution_count": 14,
     "metadata": {},
     "output_type": "execute_result"
    }
   ],
   "source": [
    "# statistics for datasets\n",
    "stats_df = pd.DataFrame.from_dict(stats)\n",
    "stats_df"
   ]
  },
  {
   "cell_type": "code",
   "execution_count": 15,
   "id": "62c08378-ea5d-4e88-9dd7-aff178182501",
   "metadata": {
    "tags": []
   },
   "outputs": [
    {
     "data": {
      "text/plain": [
       "5101"
      ]
     },
     "execution_count": 15,
     "metadata": {},
     "output_type": "execute_result"
    }
   ],
   "source": [
    "min_max_len = min(stats_df['max_len'].values.tolist())\n",
    "min_max_len"
   ]
  },
  {
   "cell_type": "code",
   "execution_count": 16,
   "id": "460e7019-1ea8-4304-a00f-c3e78486b685",
   "metadata": {
    "tags": []
   },
   "outputs": [
    {
     "data": {
      "text/plain": [
       "2278"
      ]
     },
     "execution_count": 16,
     "metadata": {},
     "output_type": "execute_result"
    }
   ],
   "source": [
    "# get min value\n",
    "min_val = min(stats_df['num_exp'].values.tolist())\n",
    "min_val"
   ]
  },
  {
   "cell_type": "code",
   "execution_count": 17,
   "id": "5c4b1b72-5904-453a-817f-a39ac417835c",
   "metadata": {
    "tags": []
   },
   "outputs": [],
   "source": [
    "def get_len_text(text):\n",
    "    return len(text.split())\n",
    "df['len_text'] = df['summary'].apply(get_len_text)"
   ]
  },
  {
   "cell_type": "code",
   "execution_count": 22,
   "id": "d55835b0-b31f-4cd8-8a74-b2cb4269557c",
   "metadata": {
    "tags": []
   },
   "outputs": [
    {
     "name": "stdout",
     "output_type": "stream",
     "text": [
      "ransomware_detect.csv\n"
     ]
    },
    {
     "name": "stderr",
     "output_type": "stream",
     "text": [
      "100% 2278/2278 [01:17<00:00, 29.31it/s]\n"
     ]
    },
    {
     "name": "stdout",
     "output_type": "stream",
     "text": [
      "application_control.csv\n"
     ]
    },
    {
     "name": "stderr",
     "output_type": "stream",
     "text": [
      "100% 2278/2278 [01:20<00:00, 28.29it/s]\n"
     ]
    },
    {
     "name": "stdout",
     "output_type": "stream",
     "text": [
      "SIEM.csv\n"
     ]
    },
    {
     "name": "stderr",
     "output_type": "stream",
     "text": [
      "100% 2278/2278 [01:30<00:00, 25.27it/s]\n"
     ]
    },
    {
     "name": "stdout",
     "output_type": "stream",
     "text": [
      "system_tweak.csv\n"
     ]
    },
    {
     "name": "stderr",
     "output_type": "stream",
     "text": [
      "100% 2278/2278 [02:05<00:00, 18.14it/s]\n"
     ]
    },
    {
     "name": "stdout",
     "output_type": "stream",
     "text": [
      "EDR.csv\n"
     ]
    },
    {
     "name": "stderr",
     "output_type": "stream",
     "text": [
      "100% 2278/2278 [01:15<00:00, 30.17it/s]\n"
     ]
    },
    {
     "name": "stdout",
     "output_type": "stream",
     "text": [
      "MDR.csv\n"
     ]
    },
    {
     "name": "stderr",
     "output_type": "stream",
     "text": [
      "100% 2278/2278 [01:15<00:00, 30.24it/s]\n"
     ]
    },
    {
     "name": "stdout",
     "output_type": "stream",
     "text": [
      "anti-counterfeit.csv\n"
     ]
    },
    {
     "name": "stderr",
     "output_type": "stream",
     "text": [
      "100% 2278/2278 [01:29<00:00, 25.32it/s]\n"
     ]
    },
    {
     "name": "stdout",
     "output_type": "stream",
     "text": [
      "NGFW.csv\n"
     ]
    },
    {
     "name": "stderr",
     "output_type": "stream",
     "text": [
      "100% 2202/2202 [01:17<00:00, 28.31it/s]\n"
     ]
    },
    {
     "name": "stdout",
     "output_type": "stream",
     "text": [
      "unwanted_programs.csv\n"
     ]
    },
    {
     "name": "stderr",
     "output_type": "stream",
     "text": [
      "100% 2278/2278 [01:02<00:00, 36.64it/s]\n"
     ]
    },
    {
     "name": "stdout",
     "output_type": "stream",
     "text": [
      "atm_security.csv\n"
     ]
    },
    {
     "name": "stderr",
     "output_type": "stream",
     "text": [
      "100% 2278/2278 [01:26<00:00, 26.21it/s]\n"
     ]
    },
    {
     "name": "stdout",
     "output_type": "stream",
     "text": [
      "SOAR.csv\n"
     ]
    },
    {
     "name": "stderr",
     "output_type": "stream",
     "text": [
      "100% 2278/2278 [01:13<00:00, 31.10it/s]\n"
     ]
    },
    {
     "name": "stdout",
     "output_type": "stream",
     "text": [
      "CASB.csv\n"
     ]
    },
    {
     "name": "stderr",
     "output_type": "stream",
     "text": [
      "100% 2278/2278 [01:17<00:00, 29.43it/s]\n"
     ]
    },
    {
     "name": "stdout",
     "output_type": "stream",
     "text": [
      "spyware_detect.csv\n"
     ]
    },
    {
     "name": "stderr",
     "output_type": "stream",
     "text": [
      "100% 2278/2278 [01:19<00:00, 28.77it/s]\n"
     ]
    },
    {
     "name": "stdout",
     "output_type": "stream",
     "text": [
      "industrial_iot_security.csv\n"
     ]
    },
    {
     "name": "stderr",
     "output_type": "stream",
     "text": [
      "100% 2278/2278 [01:33<00:00, 24.38it/s]\n"
     ]
    },
    {
     "name": "stdout",
     "output_type": "stream",
     "text": [
      "malware_detect.csv\n"
     ]
    },
    {
     "name": "stderr",
     "output_type": "stream",
     "text": [
      "100% 2278/2278 [01:12<00:00, 31.22it/s]\n"
     ]
    },
    {
     "name": "stdout",
     "output_type": "stream",
     "text": [
      "honeypot.csv\n"
     ]
    },
    {
     "name": "stderr",
     "output_type": "stream",
     "text": [
      "100% 2278/2278 [01:34<00:00, 24.17it/s]\n",
      "  0% 0/2278 [00:00<?, ?it/s]"
     ]
    },
    {
     "name": "stdout",
     "output_type": "stream",
     "text": [
      "NDR.csv\n"
     ]
    },
    {
     "name": "stderr",
     "output_type": "stream",
     "text": [
      "100% 2278/2278 [01:08<00:00, 33.17it/s]\n"
     ]
    },
    {
     "name": "stdout",
     "output_type": "stream",
     "text": [
      "sandbox.csv\n"
     ]
    },
    {
     "name": "stderr",
     "output_type": "stream",
     "text": [
      "100% 2278/2278 [01:41<00:00, 22.37it/s]\n"
     ]
    },
    {
     "name": "stdout",
     "output_type": "stream",
     "text": [
      "parental_control.csv\n"
     ]
    },
    {
     "name": "stderr",
     "output_type": "stream",
     "text": [
      "100% 2278/2278 [01:19<00:00, 28.52it/s]\n"
     ]
    },
    {
     "name": "stdout",
     "output_type": "stream",
     "text": [
      "SASE.csv\n"
     ]
    },
    {
     "name": "stderr",
     "output_type": "stream",
     "text": [
      "100% 2278/2278 [01:19<00:00, 28.56it/s]\n"
     ]
    }
   ],
   "source": [
    "stats = {\n",
    "    'name': [],\n",
    "    'num_exp': []\n",
    "}\n",
    "for file_name in files:\n",
    "    print(file_name)\n",
    "    if file_name:\n",
    "        class_name = re.sub(r\"\\.csv\", '', file_name)\n",
    "        df = pd.read_csv('data/' + file_name)\n",
    "        df = df.dropna(subset=['summary'])\n",
    "        df['len_text'] = df['summary'].apply(get_len_text)\n",
    "        df = df[df['len_text'].apply(lambda x: x <= min_max_len and x > 100)]\n",
    "        if df.shape[0] > min_val:\n",
    "            df = df.sample(min_val)\n",
    "        pro_summary = clean_text(df)\n",
    "        new_df = pd.DataFrame()\n",
    "        new_df['init_text'] = df[\"summary\"].values.tolist()\n",
    "        new_df['text'] = pro_summary\n",
    "        new_df['label'] = [class_name]*len(pro_summary)\n",
    "        new_df.to_csv('data_processed/' + file_name, index=False)\n",
    "        \n",
    "        stats['name'].append(class_name)\n",
    "        stats['num_exp'].append(len(pro_summary))"
   ]
  },
  {
   "cell_type": "code",
   "execution_count": null,
   "id": "713a43cd-a45b-4b55-ac4d-d168f9a3a68d",
   "metadata": {},
   "outputs": [],
   "source": [
    "# generate train val test data"
   ]
  },
  {
   "cell_type": "code",
   "execution_count": 23,
   "id": "f3bc5718-4033-4acb-8852-dece0a3be59d",
   "metadata": {
    "tags": []
   },
   "outputs": [],
   "source": [
    "whole_df = pd.DataFrame()\n",
    "for file_name in files:\n",
    "    if file_name:\n",
    "        class_name = re.sub(r\"\\.csv\", '', file_name)\n",
    "        df = pd.read_csv('../data_processed/' + file_name)\n",
    "        whole_df = pd.concat([whole_df, df], ignore_index=True)"
   ]
  },
  {
   "cell_type": "code",
   "execution_count": 24,
   "id": "e84ceb7e-ba1f-4ccb-b0c2-39d74d04a388",
   "metadata": {
    "tags": []
   },
   "outputs": [
    {
     "data": {
      "text/html": [
       "<div>\n",
       "<style scoped>\n",
       "    .dataframe tbody tr th:only-of-type {\n",
       "        vertical-align: middle;\n",
       "    }\n",
       "\n",
       "    .dataframe tbody tr th {\n",
       "        vertical-align: top;\n",
       "    }\n",
       "\n",
       "    .dataframe thead th {\n",
       "        text-align: right;\n",
       "    }\n",
       "</style>\n",
       "<table border=\"1\" class=\"dataframe\">\n",
       "  <thead>\n",
       "    <tr style=\"text-align: right;\">\n",
       "      <th></th>\n",
       "      <th>init_text</th>\n",
       "      <th>text</th>\n",
       "      <th>label</th>\n",
       "    </tr>\n",
       "  </thead>\n",
       "  <tbody>\n",
       "    <tr>\n",
       "      <th>0</th>\n",
       "      <td>This advertisement has not loaded yet, but you...</td>\n",
       "      <td>advertisement load yet article continue small ...</td>\n",
       "      <td>ransomware_detect</td>\n",
       "    </tr>\n",
       "    <tr>\n",
       "      <th>1</th>\n",
       "      <td>Trend Micro research reveals visibility challe...</td>\n",
       "      <td>trend micro research reveal visibility challen...</td>\n",
       "      <td>ransomware_detect</td>\n",
       "    </tr>\n",
       "    <tr>\n",
       "      <th>2</th>\n",
       "      <td>The introduction of SaaS Security Posture Mana...</td>\n",
       "      <td>introduction saas security posture management ...</td>\n",
       "      <td>ransomware_detect</td>\n",
       "    </tr>\n",
       "    <tr>\n",
       "      <th>3</th>\n",
       "      <td>New report identifies financial savings and in...</td>\n",
       "      <td>new report identify financial saving increase ...</td>\n",
       "      <td>ransomware_detect</td>\n",
       "    </tr>\n",
       "    <tr>\n",
       "      <th>4</th>\n",
       "      <td>For 21 years, the software company Kaseya labo...</td>\n",
       "      <td>year software company kaseya labor relative ob...</td>\n",
       "      <td>ransomware_detect</td>\n",
       "    </tr>\n",
       "  </tbody>\n",
       "</table>\n",
       "</div>"
      ],
      "text/plain": [
       "                                           init_text  \\\n",
       "0  This advertisement has not loaded yet, but you...   \n",
       "1  Trend Micro research reveals visibility challe...   \n",
       "2  The introduction of SaaS Security Posture Mana...   \n",
       "3  New report identifies financial savings and in...   \n",
       "4  For 21 years, the software company Kaseya labo...   \n",
       "\n",
       "                                                text              label  \n",
       "0  advertisement load yet article continue small ...  ransomware_detect  \n",
       "1  trend micro research reveal visibility challen...  ransomware_detect  \n",
       "2  introduction saas security posture management ...  ransomware_detect  \n",
       "3  new report identify financial saving increase ...  ransomware_detect  \n",
       "4  year software company kaseya labor relative ob...  ransomware_detect  "
      ]
     },
     "execution_count": 24,
     "metadata": {},
     "output_type": "execute_result"
    }
   ],
   "source": [
    "whole_df.head()"
   ]
  },
  {
   "cell_type": "code",
   "execution_count": 25,
   "id": "846dcf80-3030-4c9e-a9b7-85790e292d68",
   "metadata": {
    "tags": []
   },
   "outputs": [],
   "source": [
    "from sklearn.model_selection import train_test_split"
   ]
  },
  {
   "cell_type": "code",
   "execution_count": 26,
   "id": "eb631f7a-a059-4c17-9fe5-952b32c669af",
   "metadata": {
    "tags": []
   },
   "outputs": [],
   "source": [
    "X_train, X_test_u, y_train, y_test_u = train_test_split(whole_df['text'].values.tolist(), whole_df['label'].values.tolist(), test_size=0.3, random_state=42)"
   ]
  },
  {
   "cell_type": "code",
   "execution_count": 27,
   "id": "5fee96ab-506b-44d0-b4a3-a34717ba28ce",
   "metadata": {
    "tags": []
   },
   "outputs": [],
   "source": [
    "X_test, X_val, y_test, y_val = train_test_split(X_test_u, y_test_u, test_size=0.33, random_state=42)"
   ]
  },
  {
   "cell_type": "code",
   "execution_count": 28,
   "id": "7dfd7578-c59a-4fb1-947f-0e77ee3450f9",
   "metadata": {
    "tags": []
   },
   "outputs": [],
   "source": [
    "X_train_init, X_test_u_init, y_train_init, y_test_u_init = train_test_split(whole_df['init_text'].values.tolist(), whole_df['label'].values.tolist(), test_size=0.3, random_state=42)"
   ]
  },
  {
   "cell_type": "code",
   "execution_count": 29,
   "id": "21297794-0693-436e-85d0-b2e1345dd6c6",
   "metadata": {
    "tags": []
   },
   "outputs": [],
   "source": [
    "X_test_init, X_val_init, y_test_init, y_val_init = train_test_split(X_test_u_init, y_test_u_init, test_size=0.33, random_state=42)"
   ]
  },
  {
   "cell_type": "code",
   "execution_count": 30,
   "id": "9f4d6e5f-1d93-4d5d-8be9-e5ed7e66b64d",
   "metadata": {
    "tags": []
   },
   "outputs": [],
   "source": [
    "train_df_to_save = pd.DataFrame()\n",
    "train_df_to_save['init_text'] = X_train_init\n",
    "train_df_to_save['text'] = X_train\n",
    "train_df_to_save['label'] = y_train\n",
    "train_df_to_save.to_csv('../data_processed/model_data/train_data.csv', index=False)"
   ]
  },
  {
   "cell_type": "code",
   "execution_count": 32,
   "id": "43258a4c-c582-45a5-b632-8cb875acc317",
   "metadata": {
    "tags": []
   },
   "outputs": [],
   "source": [
    "val_df_to_save = pd.DataFrame()\n",
    "val_df_to_save['init_text'] = X_val_init\n",
    "val_df_to_save['text'] = X_val\n",
    "val_df_to_save['label'] = y_val\n",
    "val_df_to_save.to_csv('../data_processed/model_data/val_data.csv', index=False)"
   ]
  },
  {
   "cell_type": "code",
   "execution_count": 33,
   "id": "8b07af9f-c6a6-435a-99b5-8a772a3d7ba0",
   "metadata": {
    "tags": []
   },
   "outputs": [],
   "source": [
    "test_df_to_save = pd.DataFrame()\n",
    "test_df_to_save['init_text'] = X_test_init\n",
    "test_df_to_save['text'] = X_test\n",
    "test_df_to_save['label'] = y_test\n",
    "test_df_to_save.to_csv('../data_processed/model_data/test_data.csv', index=False)"
   ]
  }
 ],
 "metadata": {
  "kernelspec": {
   "display_name": "Python 3 (ipykernel)",
   "language": "python",
   "name": "python3"
  },
  "language_info": {
   "codemirror_mode": {
    "name": "ipython",
    "version": 3
   },
   "file_extension": ".py",
   "mimetype": "text/x-python",
   "name": "python",
   "nbconvert_exporter": "python",
   "pygments_lexer": "ipython3",
   "version": "3.10.9"
  }
 },
 "nbformat": 4,
 "nbformat_minor": 5
}
