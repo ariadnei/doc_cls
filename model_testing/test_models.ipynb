{
 "cells": [
  {
   "cell_type": "code",
   "execution_count": 1,
   "id": "6220a67d-03b6-494f-bf7c-aa97f5d831a2",
   "metadata": {
    "tags": []
   },
   "outputs": [],
   "source": [
    "import pandas as pd\n",
    "import pickle"
   ]
  },
  {
   "cell_type": "code",
   "execution_count": 2,
   "id": "291e9e39-3d5e-40a5-8fc3-dabcb6103a1c",
   "metadata": {
    "tags": []
   },
   "outputs": [],
   "source": [
    "# Loading test data\n",
    "test_df = pd.read_csv('../data_processed/model_data/test_data.csv')\n",
    "val_df = pd.read_csv('../data_processed/model_data/val_data.csv')\n",
    "test_df = pd.concat([test_df, val_df], ignore_index=True)\n",
    "test_df['label'] = test_df['label'].apply(lambda x: [x])\n",
    "X_test = test_df['text'].values.tolist()\n",
    "y_test = test_df['label'].values.tolist()"
   ]
  },
  {
   "cell_type": "markdown",
   "id": "bd69e3e3-0233-47c6-9dac-d9f5715b0326",
   "metadata": {},
   "source": [
    "Testing logistic regression with multi-label output"
   ]
  },
  {
   "cell_type": "code",
   "execution_count": 4,
   "id": "72119a0d-2145-4a7d-a470-e30c3725d3bf",
   "metadata": {
    "tags": []
   },
   "outputs": [
    {
     "name": "stderr",
     "output_type": "stream",
     "text": [
      "C:\\Users\\User\\AppData\\Local\\Temp\\ipykernel_7996\\3097125959.py:4: DeprecationWarning: Please use `csr_matrix` from the `scipy.sparse` namespace, the `scipy.sparse.csr` namespace is deprecated.\n",
      "  tf_idf_vec = pickle.load(open(vect_filepath, 'rb'))\n",
      "C:\\Users\\User\\anaconda3\\lib\\site-packages\\sklearn\\base.py:299: UserWarning: Trying to unpickle estimator TfidfTransformer from version 1.0.2 when using version 1.2.1. This might lead to breaking code or invalid results. Use at your own risk. For more info please refer to:\n",
      "https://scikit-learn.org/stable/model_persistence.html#security-maintainability-limitations\n",
      "  warnings.warn(\n",
      "C:\\Users\\User\\anaconda3\\lib\\site-packages\\sklearn\\base.py:299: UserWarning: Trying to unpickle estimator TfidfVectorizer from version 1.0.2 when using version 1.2.1. This might lead to breaking code or invalid results. Use at your own risk. For more info please refer to:\n",
      "https://scikit-learn.org/stable/model_persistence.html#security-maintainability-limitations\n",
      "  warnings.warn(\n",
      "C:\\Users\\User\\anaconda3\\lib\\site-packages\\sklearn\\base.py:299: UserWarning: Trying to unpickle estimator LogisticRegression from version 1.0.2 when using version 1.2.1. This might lead to breaking code or invalid results. Use at your own risk. For more info please refer to:\n",
      "https://scikit-learn.org/stable/model_persistence.html#security-maintainability-limitations\n",
      "  warnings.warn(\n",
      "C:\\Users\\User\\anaconda3\\lib\\site-packages\\sklearn\\base.py:299: UserWarning: Trying to unpickle estimator MultiOutputClassifier from version 1.0.2 when using version 1.2.1. This might lead to breaking code or invalid results. Use at your own risk. For more info please refer to:\n",
      "https://scikit-learn.org/stable/model_persistence.html#security-maintainability-limitations\n",
      "  warnings.warn(\n",
      "C:\\Users\\User\\anaconda3\\lib\\site-packages\\sklearn\\base.py:299: UserWarning: Trying to unpickle estimator MultiLabelBinarizer from version 1.0.2 when using version 1.2.1. This might lead to breaking code or invalid results. Use at your own risk. For more info please refer to:\n",
      "https://scikit-learn.org/stable/model_persistence.html#security-maintainability-limitations\n",
      "  warnings.warn(\n"
     ]
    }
   ],
   "source": [
    "# Loading required models\n",
    "\n",
    "vect_filepath = '../models/tf_idf_vec.sav'\n",
    "tf_idf_vec = pickle.load(open(vect_filepath, 'rb'))\n",
    "\n",
    "model_filepath = '../models/logistic_reg.sav'\n",
    "log_reg_clf = pickle.load(open(model_filepath, 'rb'))\n",
    "\n",
    "mlb_path = '../models/mlb.pkl'\n",
    "mlb = pickle.load(open(mlb_path, 'rb'))"
   ]
  },
  {
   "cell_type": "code",
   "execution_count": 5,
   "id": "c34a277a-d96c-411b-bb10-e4dd597df8c9",
   "metadata": {
    "tags": []
   },
   "outputs": [],
   "source": [
    "X_test = tf_idf_vec.transform(X_test).toarray()\n",
    "y_test = mlb.transform(y_test)"
   ]
  },
  {
   "cell_type": "code",
   "execution_count": 6,
   "id": "0cc820d7-a493-41aa-a050-403df0000f59",
   "metadata": {
    "tags": []
   },
   "outputs": [
    {
     "data": {
      "text/plain": [
       "array([0, 0, 0, 0, 0, 0, 0, 0, 0, 0, 0, 0, 0, 0, 0, 0, 0, 1, 0, 0])"
      ]
     },
     "execution_count": 6,
     "metadata": {},
     "output_type": "execute_result"
    }
   ],
   "source": [
    "y_test[0]"
   ]
  },
  {
   "cell_type": "code",
   "execution_count": 7,
   "id": "01bd43e9-e61b-4c09-8dc8-50d0ecd8ff85",
   "metadata": {
    "tags": []
   },
   "outputs": [],
   "source": [
    "y_pred = log_reg_clf.predict(X_test)"
   ]
  },
  {
   "cell_type": "markdown",
   "id": "dc1e861c-c44c-4c06-9a99-3f5792d7f52f",
   "metadata": {},
   "source": [
    "Для оценки работы мульти-лейб классификатора можно использовать следующие метрики:\n",
    "- Exact Match Ratio - считает долю правильно предсказанных случаев, при условии, что частично-верно предсказанные примеры рассматриваются как неправильные\n",
    "- 0/1 Loss - считает долю неправильно предсказанных случаев\n",
    "- Accuracy - точность модели - средняя величина точности для всех экземпляров, доля правильных предсказаний\n",
    "- Hamming Loss - считает сколько раз в среднем пример был неверно классифицирован. При подсчете используется как неправильное предсказание, так и пропуск предсказания, нормализованные по общему числу примеров и классов. (Чем ниже hamming loss, тем лучше работает модель)\n",
    "- Recall - доля правильно предсказанных примеров к общему числу истинных значений, усредненная для всех значений\n",
    "- Precision - доля правильно предсказанных примеров к общему числу предсказанных примеров, усредненная для всех значений\n",
    "- F1-Measure - гармоническое среднее для Precision и Recall"
   ]
  },
  {
   "cell_type": "code",
   "execution_count": 8,
   "id": "9fd04f1a-a1be-4398-ad52-b79ea9b3cb4f",
   "metadata": {
    "tags": []
   },
   "outputs": [
    {
     "name": "stdout",
     "output_type": "stream",
     "text": [
      "Exact Match Ratio: 0.5030045434559578\n",
      "Hamming loss: 0.02816209878352631\n"
     ]
    }
   ],
   "source": [
    "import sklearn.metrics\n",
    "\n",
    "print('Exact Match Ratio: {0}'.format(sklearn.metrics.accuracy_score(y_test, y_pred, normalize=True, sample_weight=None)))\n",
    "\n",
    "print('Hamming loss: {0}'.format(sklearn.metrics.hamming_loss(y_test, y_pred))) \n"
   ]
  },
  {
   "cell_type": "code",
   "execution_count": 9,
   "id": "22485ad2-fb50-48e1-8440-1a21d779fbca",
   "metadata": {
    "tags": []
   },
   "outputs": [
    {
     "name": "stdout",
     "output_type": "stream",
     "text": [
      "Recall: 0.5083540964385168\n",
      "Precision: 0.5137036494210758\n",
      "F1 Measure: 0.5101372807660365\n"
     ]
    },
    {
     "name": "stderr",
     "output_type": "stream",
     "text": [
      "C:\\Users\\User\\anaconda3\\lib\\site-packages\\sklearn\\metrics\\_classification.py:1344: UndefinedMetricWarning: Precision is ill-defined and being set to 0.0 in samples with no predicted labels. Use `zero_division` parameter to control this behavior.\n",
      "  _warn_prf(average, modifier, msg_start, len(result))\n"
     ]
    }
   ],
   "source": [
    "#\"samples\" applies only to multilabel problems. It does not calculate a per-class measure, instead calculating the metric over the true and predicted classes \n",
    "#for each sample in the evaluation data, and returning their (sample_weight-weighted) average.\n",
    "\n",
    "print('Recall: {0}'.format(sklearn.metrics.precision_score(y_true=y_test, y_pred=y_pred, average='samples'))) \n",
    "\n",
    "print('Precision: {0}'.format(sklearn.metrics.recall_score(y_true=y_test, y_pred=y_pred, average='samples')))\n",
    "\n",
    "print('F1 Measure: {0}'.format(sklearn.metrics.f1_score(y_true=y_test, y_pred=y_pred, average='samples'))) "
   ]
  },
  {
   "cell_type": "markdown",
   "id": "f8302a59-824c-4eb7-9201-67ac37bccd69",
   "metadata": {},
   "source": [
    "Я думаю, что нет смысла использовать average='samples', потому что в нашей тестовой выборке нет объектов, которые могут относиться сразу нескольким классам."
   ]
  },
  {
   "cell_type": "markdown",
   "id": "bb7925bc-4155-4fe7-a6fc-3edd00ba6bf2",
   "metadata": {},
   "source": [
    "Поэтому лучше использовать 'macro' или 'micro' average"
   ]
  },
  {
   "cell_type": "code",
   "execution_count": 10,
   "id": "a572d4aa-7076-4579-be78-f0a91421b3f6",
   "metadata": {
    "tags": []
   },
   "outputs": [
    {
     "name": "stdout",
     "output_type": "stream",
     "text": [
      "Recall macro: 0.8546121274839921\n",
      "Precision macro: 0.5137232435191066\n",
      "F1 Measure macro: 0.6321161267552146\n"
     ]
    }
   ],
   "source": [
    "print('Recall macro: {0}'.format(sklearn.metrics.precision_score(y_true=y_test, y_pred=y_pred, average='macro'))) \n",
    "\n",
    "print('Precision macro: {0}'.format(sklearn.metrics.recall_score(y_true=y_test, y_pred=y_pred, average='macro')))\n",
    "# невзвешенное среднее f1 для классов (считает f1 для каждого класса)\n",
    "print('F1 Measure macro: {0}'.format(sklearn.metrics.f1_score(y_true=y_test, y_pred=y_pred, average='macro'))) "
   ]
  },
  {
   "cell_type": "code",
   "execution_count": 11,
   "id": "c7a98863-736f-43d9-8be2-f74495e84dbc",
   "metadata": {
    "tags": []
   },
   "outputs": [
    {
     "name": "stdout",
     "output_type": "stream",
     "text": [
      "Recall micro: 0.5083540964385168\n",
      "Precision micro: 0.5137036494210758\n",
      "F1 Measure micro: 0.6459043582419608\n"
     ]
    },
    {
     "name": "stderr",
     "output_type": "stream",
     "text": [
      "C:\\Users\\User\\anaconda3\\lib\\site-packages\\sklearn\\metrics\\_classification.py:1344: UndefinedMetricWarning: Precision is ill-defined and being set to 0.0 in samples with no predicted labels. Use `zero_division` parameter to control this behavior.\n",
      "  _warn_prf(average, modifier, msg_start, len(result))\n"
     ]
    }
   ],
   "source": [
    "print('Recall micro: {0}'.format(sklearn.metrics.precision_score(y_true=y_test, y_pred=y_pred, average='samples'))) \n",
    "\n",
    "print('Precision micro: {0}'.format(sklearn.metrics.recall_score(y_true=y_test, y_pred=y_pred, average='samples')))\n",
    "# считает общее число True Positives (TP), False Positives (FP) and False Negatives (FN) (не для каждого класса)\n",
    "print('F1 Measure micro: {0}'.format(sklearn.metrics.f1_score(y_true=y_test, y_pred=y_pred, average='micro'))) "
   ]
  },
  {
   "cell_type": "markdown",
   "id": "65b93a8b-c689-48bf-aa0f-963c1543cb41",
   "metadata": {},
   "source": [
    "Для несбалансированной выборки лучше использовать macro-f1, тк он дает каждому классу одинаковую важность. \n",
    "В нашем случае, выборка сбалансированная и мы можем использовать micro-f1, где каждый пример имеет равную важность. Также, micro-f1 можно интерпретировать как accuracy."
   ]
  },
  {
   "cell_type": "markdown",
   "id": "3743c5ba-154e-4f2e-8aa0-1cfc2618d79c",
   "metadata": {},
   "source": [
    "Также можно получить поклассово значения precision, recall и f1"
   ]
  },
  {
   "cell_type": "code",
   "execution_count": 12,
   "id": "6f76e522-4a42-4626-8ef1-5d503c556161",
   "metadata": {
    "tags": []
   },
   "outputs": [],
   "source": [
    "f1_scores = sklearn.metrics.f1_score(y_test, y_pred, average=None)\n",
    "precision_scores = sklearn.metrics.precision_score(y_test, y_pred, average=None)\n",
    "recall_scores = sklearn.metrics.recall_score(y_test, y_pred, average=None)\n",
    "df_accuracy = pd.DataFrame({\"label\": mlb.classes_,\n",
    "                            # \"auc\": auc_scores,\n",
    "                            'f1-score': f1_scores,\n",
    "                            'precision': precision_scores,\n",
    "                            'recall': recall_scores})\n",
    "#df_accuracy = df_accuracy.sort_values('f1-score')[::-1]\n"
   ]
  },
  {
   "cell_type": "code",
   "execution_count": 13,
   "id": "97097ad3-0f58-4286-86ca-1fe31fe29da7",
   "metadata": {
    "tags": []
   },
   "outputs": [
    {
     "data": {
      "text/html": [
       "<div>\n",
       "<style scoped>\n",
       "    .dataframe tbody tr th:only-of-type {\n",
       "        vertical-align: middle;\n",
       "    }\n",
       "\n",
       "    .dataframe tbody tr th {\n",
       "        vertical-align: top;\n",
       "    }\n",
       "\n",
       "    .dataframe thead th {\n",
       "        text-align: right;\n",
       "    }\n",
       "</style>\n",
       "<table border=\"1\" class=\"dataframe\">\n",
       "  <thead>\n",
       "    <tr style=\"text-align: right;\">\n",
       "      <th></th>\n",
       "      <th>label</th>\n",
       "      <th>f1-score</th>\n",
       "      <th>precision</th>\n",
       "      <th>recall</th>\n",
       "    </tr>\n",
       "  </thead>\n",
       "  <tbody>\n",
       "    <tr>\n",
       "      <th>0</th>\n",
       "      <td>CASB</td>\n",
       "      <td>0.603571</td>\n",
       "      <td>0.728448</td>\n",
       "      <td>0.515244</td>\n",
       "    </tr>\n",
       "    <tr>\n",
       "      <th>1</th>\n",
       "      <td>EDR</td>\n",
       "      <td>0.509091</td>\n",
       "      <td>0.765273</td>\n",
       "      <td>0.381410</td>\n",
       "    </tr>\n",
       "    <tr>\n",
       "      <th>2</th>\n",
       "      <td>MDR</td>\n",
       "      <td>0.672384</td>\n",
       "      <td>0.843011</td>\n",
       "      <td>0.559201</td>\n",
       "    </tr>\n",
       "    <tr>\n",
       "      <th>3</th>\n",
       "      <td>NDR</td>\n",
       "      <td>0.818636</td>\n",
       "      <td>0.946154</td>\n",
       "      <td>0.721408</td>\n",
       "    </tr>\n",
       "    <tr>\n",
       "      <th>4</th>\n",
       "      <td>NGFW</td>\n",
       "      <td>0.742397</td>\n",
       "      <td>0.882979</td>\n",
       "      <td>0.640432</td>\n",
       "    </tr>\n",
       "    <tr>\n",
       "      <th>5</th>\n",
       "      <td>SASE</td>\n",
       "      <td>0.533088</td>\n",
       "      <td>0.736041</td>\n",
       "      <td>0.417867</td>\n",
       "    </tr>\n",
       "    <tr>\n",
       "      <th>6</th>\n",
       "      <td>SIEM</td>\n",
       "      <td>0.479843</td>\n",
       "      <td>0.769716</td>\n",
       "      <td>0.348571</td>\n",
       "    </tr>\n",
       "    <tr>\n",
       "      <th>7</th>\n",
       "      <td>SOAR</td>\n",
       "      <td>0.673816</td>\n",
       "      <td>0.884977</td>\n",
       "      <td>0.544012</td>\n",
       "    </tr>\n",
       "    <tr>\n",
       "      <th>8</th>\n",
       "      <td>anti-counterfeit</td>\n",
       "      <td>0.780834</td>\n",
       "      <td>0.958606</td>\n",
       "      <td>0.658683</td>\n",
       "    </tr>\n",
       "    <tr>\n",
       "      <th>9</th>\n",
       "      <td>application_control</td>\n",
       "      <td>0.797649</td>\n",
       "      <td>0.989583</td>\n",
       "      <td>0.668073</td>\n",
       "    </tr>\n",
       "    <tr>\n",
       "      <th>10</th>\n",
       "      <td>atm_security</td>\n",
       "      <td>0.753982</td>\n",
       "      <td>0.934211</td>\n",
       "      <td>0.632047</td>\n",
       "    </tr>\n",
       "    <tr>\n",
       "      <th>11</th>\n",
       "      <td>honeypot</td>\n",
       "      <td>0.627049</td>\n",
       "      <td>0.953271</td>\n",
       "      <td>0.467176</td>\n",
       "    </tr>\n",
       "    <tr>\n",
       "      <th>12</th>\n",
       "      <td>industrial_iot_security</td>\n",
       "      <td>0.654020</td>\n",
       "      <td>0.885086</td>\n",
       "      <td>0.518625</td>\n",
       "    </tr>\n",
       "    <tr>\n",
       "      <th>13</th>\n",
       "      <td>malware_detect</td>\n",
       "      <td>0.218045</td>\n",
       "      <td>0.669231</td>\n",
       "      <td>0.130240</td>\n",
       "    </tr>\n",
       "    <tr>\n",
       "      <th>14</th>\n",
       "      <td>parental_control</td>\n",
       "      <td>0.834437</td>\n",
       "      <td>0.972973</td>\n",
       "      <td>0.730435</td>\n",
       "    </tr>\n",
       "    <tr>\n",
       "      <th>15</th>\n",
       "      <td>ransomware_detect</td>\n",
       "      <td>0.307860</td>\n",
       "      <td>0.723077</td>\n",
       "      <td>0.195562</td>\n",
       "    </tr>\n",
       "    <tr>\n",
       "      <th>16</th>\n",
       "      <td>sandbox</td>\n",
       "      <td>0.642790</td>\n",
       "      <td>0.939394</td>\n",
       "      <td>0.488539</td>\n",
       "    </tr>\n",
       "    <tr>\n",
       "      <th>17</th>\n",
       "      <td>spyware_detect</td>\n",
       "      <td>0.593503</td>\n",
       "      <td>0.723769</td>\n",
       "      <td>0.502976</td>\n",
       "    </tr>\n",
       "    <tr>\n",
       "      <th>18</th>\n",
       "      <td>system_tweak</td>\n",
       "      <td>0.781145</td>\n",
       "      <td>0.946939</td>\n",
       "      <td>0.664756</td>\n",
       "    </tr>\n",
       "    <tr>\n",
       "      <th>19</th>\n",
       "      <td>unwanted_programs</td>\n",
       "      <td>0.618182</td>\n",
       "      <td>0.839506</td>\n",
       "      <td>0.489209</td>\n",
       "    </tr>\n",
       "  </tbody>\n",
       "</table>\n",
       "</div>"
      ],
      "text/plain": [
       "                      label  f1-score  precision    recall\n",
       "0                      CASB  0.603571   0.728448  0.515244\n",
       "1                       EDR  0.509091   0.765273  0.381410\n",
       "2                       MDR  0.672384   0.843011  0.559201\n",
       "3                       NDR  0.818636   0.946154  0.721408\n",
       "4                      NGFW  0.742397   0.882979  0.640432\n",
       "5                      SASE  0.533088   0.736041  0.417867\n",
       "6                      SIEM  0.479843   0.769716  0.348571\n",
       "7                      SOAR  0.673816   0.884977  0.544012\n",
       "8          anti-counterfeit  0.780834   0.958606  0.658683\n",
       "9       application_control  0.797649   0.989583  0.668073\n",
       "10             atm_security  0.753982   0.934211  0.632047\n",
       "11                 honeypot  0.627049   0.953271  0.467176\n",
       "12  industrial_iot_security  0.654020   0.885086  0.518625\n",
       "13           malware_detect  0.218045   0.669231  0.130240\n",
       "14         parental_control  0.834437   0.972973  0.730435\n",
       "15        ransomware_detect  0.307860   0.723077  0.195562\n",
       "16                  sandbox  0.642790   0.939394  0.488539\n",
       "17           spyware_detect  0.593503   0.723769  0.502976\n",
       "18             system_tweak  0.781145   0.946939  0.664756\n",
       "19        unwanted_programs  0.618182   0.839506  0.489209"
      ]
     },
     "execution_count": 13,
     "metadata": {},
     "output_type": "execute_result"
    }
   ],
   "source": [
    "df_accuracy"
   ]
  },
  {
   "cell_type": "code",
   "execution_count": 14,
   "id": "26e8659b-8241-4a28-a19f-83300aa17c38",
   "metadata": {},
   "outputs": [],
   "source": [
    "df_accuracy.to_csv('results/log_res_classes.csv', index=False)"
   ]
  },
  {
   "cell_type": "markdown",
   "id": "5aa0217d-19d4-4b25-a84e-b3f26be3ca3a",
   "metadata": {},
   "source": [
    "Далее буду использовать только micro-average и результаты по классам"
   ]
  },
  {
   "cell_type": "code",
   "execution_count": 42,
   "id": "5cb0471a-e1fe-40c6-8b36-a592a0d4636f",
   "metadata": {},
   "outputs": [
    {
     "name": "stderr",
     "output_type": "stream",
     "text": [
      "C:\\Users\\User\\anaconda3\\lib\\site-packages\\sklearn\\base.py:299: UserWarning: Trying to unpickle estimator DecisionTreeClassifier from version 1.0.2 when using version 1.2.1. This might lead to breaking code or invalid results. Use at your own risk. For more info please refer to:\n",
      "https://scikit-learn.org/stable/model_persistence.html#security-maintainability-limitations\n",
      "  warnings.warn(\n",
      "C:\\Users\\User\\anaconda3\\lib\\site-packages\\sklearn\\base.py:299: UserWarning: Trying to unpickle estimator MultiOutputClassifier from version 1.0.2 when using version 1.2.1. This might lead to breaking code or invalid results. Use at your own risk. For more info please refer to:\n",
      "https://scikit-learn.org/stable/model_persistence.html#security-maintainability-limitations\n",
      "  warnings.warn(\n"
     ]
    }
   ],
   "source": [
    "model_filepath = '../models/dec_tree.sav'\n",
    "dec_tree_clf = pickle.load(open(model_filepath, 'rb'))"
   ]
  },
  {
   "cell_type": "code",
   "execution_count": 43,
   "id": "d2aed299-6cc9-4810-95bb-c4717e4b8bcb",
   "metadata": {},
   "outputs": [],
   "source": [
    "y_pred = dec_tree_clf.predict(X_test)"
   ]
  },
  {
   "cell_type": "code",
   "execution_count": 24,
   "id": "d65ff3d5-fd1b-42ca-af21-69840dc0586c",
   "metadata": {},
   "outputs": [
    {
     "name": "stdout",
     "output_type": "stream",
     "text": [
      "Exact Match Ratio: 0.7394840979041477\n",
      "Hamming loss: 0.018800381064048074\n"
     ]
    }
   ],
   "source": [
    "print('Exact Match Ratio: {0}'.format(sklearn.metrics.accuracy_score(y_test, y_pred, normalize=True, sample_weight=None)))\n",
    "\n",
    "print('Hamming loss: {0}'.format(sklearn.metrics.hamming_loss(y_test, y_pred))) "
   ]
  },
  {
   "cell_type": "code",
   "execution_count": 25,
   "id": "eea4a314-e541-44a0-9ae8-26965b69e01a",
   "metadata": {},
   "outputs": [
    {
     "name": "stdout",
     "output_type": "stream",
     "text": [
      "Recall micro: 0.763837998925204\n",
      "Precision micro: 0.7893155503444232\n",
      "F1 Measure micro: 0.8076331871180595\n"
     ]
    },
    {
     "name": "stderr",
     "output_type": "stream",
     "text": [
      "C:\\Users\\User\\anaconda3\\lib\\site-packages\\sklearn\\metrics\\_classification.py:1344: UndefinedMetricWarning: Precision is ill-defined and being set to 0.0 in samples with no predicted labels. Use `zero_division` parameter to control this behavior.\n",
      "  _warn_prf(average, modifier, msg_start, len(result))\n"
     ]
    }
   ],
   "source": [
    "print('Recall micro: {0}'.format(sklearn.metrics.precision_score(y_true=y_test, y_pred=y_pred, average='samples'))) \n",
    "\n",
    "print('Precision micro: {0}'.format(sklearn.metrics.recall_score(y_true=y_test, y_pred=y_pred, average='samples')))\n",
    "# считает общее число True Positives (TP), False Positives (FP) and False Negatives (FN) (не для каждого класса)\n",
    "print('F1 Measure micro: {0}'.format(sklearn.metrics.f1_score(y_true=y_test, y_pred=y_pred, average='micro'))) "
   ]
  },
  {
   "cell_type": "code",
   "execution_count": 48,
   "id": "b3afa15b-f5c0-47d1-b486-b58a5d9255de",
   "metadata": {},
   "outputs": [],
   "source": [
    "f1_scores = sklearn.metrics.f1_score(y_test, y_pred, average=None)\n",
    "precision_scores = sklearn.metrics.precision_score(y_test, y_pred, average=None)\n",
    "recall_scores = sklearn.metrics.recall_score(y_test, y_pred, average=None)\n",
    "df_accuracy = pd.DataFrame({\"label\": mlb.classes_,\n",
    "                            # \"auc\": auc_scores,\n",
    "                            'f1-score': f1_scores,\n",
    "                            'precision': precision_scores,\n",
    "                            'recall': recall_scores})\n",
    "#df_accuracy = df_accuracy.sort_values('f1-score')[::-1]\n"
   ]
  },
  {
   "cell_type": "code",
   "execution_count": 49,
   "id": "04794cc0-3ab7-4555-8d6c-02d588e94211",
   "metadata": {},
   "outputs": [
    {
     "data": {
      "text/html": [
       "<div>\n",
       "<style scoped>\n",
       "    .dataframe tbody tr th:only-of-type {\n",
       "        vertical-align: middle;\n",
       "    }\n",
       "\n",
       "    .dataframe tbody tr th {\n",
       "        vertical-align: top;\n",
       "    }\n",
       "\n",
       "    .dataframe thead th {\n",
       "        text-align: right;\n",
       "    }\n",
       "</style>\n",
       "<table border=\"1\" class=\"dataframe\">\n",
       "  <thead>\n",
       "    <tr style=\"text-align: right;\">\n",
       "      <th></th>\n",
       "      <th>label</th>\n",
       "      <th>f1-score</th>\n",
       "      <th>precision</th>\n",
       "      <th>recall</th>\n",
       "    </tr>\n",
       "  </thead>\n",
       "  <tbody>\n",
       "    <tr>\n",
       "      <th>0</th>\n",
       "      <td>CASB</td>\n",
       "      <td>0.734446</td>\n",
       "      <td>0.731118</td>\n",
       "      <td>0.737805</td>\n",
       "    </tr>\n",
       "    <tr>\n",
       "      <th>1</th>\n",
       "      <td>EDR</td>\n",
       "      <td>0.657829</td>\n",
       "      <td>0.680961</td>\n",
       "      <td>0.636218</td>\n",
       "    </tr>\n",
       "    <tr>\n",
       "      <th>2</th>\n",
       "      <td>MDR</td>\n",
       "      <td>0.802661</td>\n",
       "      <td>0.832822</td>\n",
       "      <td>0.774608</td>\n",
       "    </tr>\n",
       "    <tr>\n",
       "      <th>3</th>\n",
       "      <td>NDR</td>\n",
       "      <td>0.854950</td>\n",
       "      <td>0.896940</td>\n",
       "      <td>0.816716</td>\n",
       "    </tr>\n",
       "    <tr>\n",
       "      <th>4</th>\n",
       "      <td>NGFW</td>\n",
       "      <td>0.854415</td>\n",
       "      <td>0.881773</td>\n",
       "      <td>0.828704</td>\n",
       "    </tr>\n",
       "    <tr>\n",
       "      <th>5</th>\n",
       "      <td>SASE</td>\n",
       "      <td>0.748044</td>\n",
       "      <td>0.818493</td>\n",
       "      <td>0.688761</td>\n",
       "    </tr>\n",
       "    <tr>\n",
       "      <th>6</th>\n",
       "      <td>SIEM</td>\n",
       "      <td>0.739645</td>\n",
       "      <td>0.766871</td>\n",
       "      <td>0.714286</td>\n",
       "    </tr>\n",
       "    <tr>\n",
       "      <th>7</th>\n",
       "      <td>SOAR</td>\n",
       "      <td>0.763218</td>\n",
       "      <td>0.813725</td>\n",
       "      <td>0.718615</td>\n",
       "    </tr>\n",
       "    <tr>\n",
       "      <th>8</th>\n",
       "      <td>anti-counterfeit</td>\n",
       "      <td>0.950746</td>\n",
       "      <td>0.947917</td>\n",
       "      <td>0.953593</td>\n",
       "    </tr>\n",
       "    <tr>\n",
       "      <th>9</th>\n",
       "      <td>application_control</td>\n",
       "      <td>0.805694</td>\n",
       "      <td>0.815562</td>\n",
       "      <td>0.796062</td>\n",
       "    </tr>\n",
       "    <tr>\n",
       "      <th>10</th>\n",
       "      <td>atm_security</td>\n",
       "      <td>0.941697</td>\n",
       "      <td>0.936858</td>\n",
       "      <td>0.946588</td>\n",
       "    </tr>\n",
       "    <tr>\n",
       "      <th>11</th>\n",
       "      <td>honeypot</td>\n",
       "      <td>0.937405</td>\n",
       "      <td>0.937405</td>\n",
       "      <td>0.937405</td>\n",
       "    </tr>\n",
       "    <tr>\n",
       "      <th>12</th>\n",
       "      <td>industrial_iot_security</td>\n",
       "      <td>0.898614</td>\n",
       "      <td>0.915305</td>\n",
       "      <td>0.882521</td>\n",
       "    </tr>\n",
       "    <tr>\n",
       "      <th>13</th>\n",
       "      <td>malware_detect</td>\n",
       "      <td>0.505783</td>\n",
       "      <td>0.521463</td>\n",
       "      <td>0.491018</td>\n",
       "    </tr>\n",
       "    <tr>\n",
       "      <th>14</th>\n",
       "      <td>parental_control</td>\n",
       "      <td>0.947756</td>\n",
       "      <td>0.962631</td>\n",
       "      <td>0.933333</td>\n",
       "    </tr>\n",
       "    <tr>\n",
       "      <th>15</th>\n",
       "      <td>ransomware_detect</td>\n",
       "      <td>0.555556</td>\n",
       "      <td>0.596184</td>\n",
       "      <td>0.520111</td>\n",
       "    </tr>\n",
       "    <tr>\n",
       "      <th>16</th>\n",
       "      <td>sandbox</td>\n",
       "      <td>0.900433</td>\n",
       "      <td>0.906977</td>\n",
       "      <td>0.893983</td>\n",
       "    </tr>\n",
       "    <tr>\n",
       "      <th>17</th>\n",
       "      <td>spyware_detect</td>\n",
       "      <td>0.727806</td>\n",
       "      <td>0.717800</td>\n",
       "      <td>0.738095</td>\n",
       "    </tr>\n",
       "    <tr>\n",
       "      <th>18</th>\n",
       "      <td>system_tweak</td>\n",
       "      <td>0.956772</td>\n",
       "      <td>0.962319</td>\n",
       "      <td>0.951289</td>\n",
       "    </tr>\n",
       "    <tr>\n",
       "      <th>19</th>\n",
       "      <td>unwanted_programs</td>\n",
       "      <td>0.835756</td>\n",
       "      <td>0.844347</td>\n",
       "      <td>0.827338</td>\n",
       "    </tr>\n",
       "  </tbody>\n",
       "</table>\n",
       "</div>"
      ],
      "text/plain": [
       "                      label  f1-score  precision    recall\n",
       "0                      CASB  0.734446   0.731118  0.737805\n",
       "1                       EDR  0.657829   0.680961  0.636218\n",
       "2                       MDR  0.802661   0.832822  0.774608\n",
       "3                       NDR  0.854950   0.896940  0.816716\n",
       "4                      NGFW  0.854415   0.881773  0.828704\n",
       "5                      SASE  0.748044   0.818493  0.688761\n",
       "6                      SIEM  0.739645   0.766871  0.714286\n",
       "7                      SOAR  0.763218   0.813725  0.718615\n",
       "8          anti-counterfeit  0.950746   0.947917  0.953593\n",
       "9       application_control  0.805694   0.815562  0.796062\n",
       "10             atm_security  0.941697   0.936858  0.946588\n",
       "11                 honeypot  0.937405   0.937405  0.937405\n",
       "12  industrial_iot_security  0.898614   0.915305  0.882521\n",
       "13           malware_detect  0.505783   0.521463  0.491018\n",
       "14         parental_control  0.947756   0.962631  0.933333\n",
       "15        ransomware_detect  0.555556   0.596184  0.520111\n",
       "16                  sandbox  0.900433   0.906977  0.893983\n",
       "17           spyware_detect  0.727806   0.717800  0.738095\n",
       "18             system_tweak  0.956772   0.962319  0.951289\n",
       "19        unwanted_programs  0.835756   0.844347  0.827338"
      ]
     },
     "execution_count": 49,
     "metadata": {},
     "output_type": "execute_result"
    }
   ],
   "source": [
    "df_accuracy"
   ]
  },
  {
   "cell_type": "code",
   "execution_count": 50,
   "id": "d6e22b2e-1f3e-4c2a-aa9e-2b034af5a3a7",
   "metadata": {},
   "outputs": [],
   "source": [
    "df_accuracy.to_csv('results/dec_tree_classes.csv', index=False)"
   ]
  },
  {
   "cell_type": "markdown",
   "id": "9f497fe1-6547-478c-bbd8-6e5c792886f9",
   "metadata": {},
   "source": [
    "NN evaluation"
   ]
  },
  {
   "cell_type": "markdown",
   "id": "3229c45d-6396-4d0b-8cef-697124871292",
   "metadata": {},
   "source": [
    "Я сохранила только 5-ю эпоху, как наилучшую, поэтому буду получать метрики по ней. В файле test_nn выполнен код"
   ]
  },
  {
   "cell_type": "code",
   "execution_count": null,
   "id": "4937511a-38b4-46f6-b26b-f023a125ddc2",
   "metadata": {},
   "outputs": [],
   "source": []
  }
 ],
 "metadata": {
  "kernelspec": {
   "display_name": "Python 3 (ipykernel)",
   "language": "python",
   "name": "python3"
  },
  "language_info": {
   "codemirror_mode": {
    "name": "ipython",
    "version": 3
   },
   "file_extension": ".py",
   "mimetype": "text/x-python",
   "name": "python",
   "nbconvert_exporter": "python",
   "pygments_lexer": "ipython3",
   "version": "3.10.9"
  }
 },
 "nbformat": 4,
 "nbformat_minor": 5
}
