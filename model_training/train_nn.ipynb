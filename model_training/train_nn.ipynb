{
 "cells": [
  {
   "cell_type": "code",
   "execution_count": 1,
   "id": "e6f0e3bc-d175-4733-99d1-b507db05cab7",
   "metadata": {
    "tags": []
   },
   "outputs": [],
   "source": [
    "from transformers import AutoTokenizer, AutoModelForSequenceClassification"
   ]
  },
  {
   "cell_type": "code",
   "execution_count": 2,
   "id": "ef24ce81-8e3f-42ef-bbc6-86e6022077e9",
   "metadata": {
    "tags": []
   },
   "outputs": [],
   "source": [
    "import pandas as pd\n",
    "import numpy as np\n",
    "import torch\n",
    "import pickle\n",
    "from torch import cuda"
   ]
  },
  {
   "cell_type": "code",
   "execution_count": null,
   "id": "f1051c25-bdc9-486a-8090-1c8fa2fa8940",
   "metadata": {},
   "outputs": [],
   "source": [
    "device = 'cuda' if cuda.is_available() else 'cpu'"
   ]
  },
  {
   "cell_type": "code",
   "execution_count": 3,
   "id": "cbe9997f-3e39-4f4c-a1d5-59c95c69c361",
   "metadata": {
    "tags": []
   },
   "outputs": [],
   "source": [
    "mlb_path = '../models/mlb.pkl'\n",
    "mlb = pickle.load(open(mlb_path, 'rb'))"
   ]
  },
  {
   "cell_type": "code",
   "execution_count": 4,
   "id": "a1bb656f-d889-4cd4-880f-578ce487362d",
   "metadata": {
    "tags": []
   },
   "outputs": [],
   "source": [
    "train_df = pd.read_csv('../data_processed/model_data/train_data.csv')\n",
    "train_df['label'] = train_df['label'].apply(lambda x: [x])\n",
    "\n",
    "val_df = pd.read_csv('../data_processed/model_data/val_data.csv')\n",
    "val_df['label'] = val_df['label'].apply(lambda x: [x])"
   ]
  },
  {
   "cell_type": "code",
   "execution_count": 5,
   "id": "26927035-e132-4183-9f2e-db66d8b12094",
   "metadata": {
    "tags": []
   },
   "outputs": [],
   "source": [
    "model_name = 'distilbert-base-uncased'"
   ]
  },
  {
   "cell_type": "code",
   "execution_count": 6,
   "id": "96e76350-4331-448a-b146-ca092b7d3aa5",
   "metadata": {
    "tags": []
   },
   "outputs": [],
   "source": [
    "tokenizer = AutoTokenizer.from_pretrained(model_name)"
   ]
  },
  {
   "cell_type": "code",
   "execution_count": 7,
   "id": "98cb3468-caea-4c3e-9509-bd627f946be3",
   "metadata": {
    "tags": []
   },
   "outputs": [],
   "source": [
    "id2label = {index: class_name for (index, class_name) in enumerate(mlb.classes_)}\n",
    "label2id = {class_name: index for (index, class_name) in enumerate(mlb.classes_)}"
   ]
  },
  {
   "cell_type": "code",
   "execution_count": 8,
   "id": "48544fa3-a41d-486a-a38f-8c8b28fc9e82",
   "metadata": {
    "tags": []
   },
   "outputs": [],
   "source": [
    "encoded = []\n",
    "for _, row in train_df.iterrows():\n",
    "    add_enc = {}\n",
    "    encoding = tokenizer(row['init_text'], padding=\"max_length\", truncation=True, max_length=512) \n",
    "    ids = encoding['input_ids']\n",
    "    mask = encoding['attention_mask']\n",
    "\n",
    "    label_mlb = mlb.transform([row['label']])[0]\n",
    "    add_enc = {\n",
    "        'input_ids': torch.tensor(ids, dtype=torch.long),\n",
    "        'attention_mask': torch.tensor(mask, dtype=torch.long),\n",
    "        'labels': torch.tensor(label_mlb, dtype=torch.float)\n",
    "    }\n",
    "    \n",
    "    encoded.append(add_enc)"
   ]
  },
  {
   "cell_type": "code",
   "execution_count": 9,
   "id": "bcda9b3b-1412-4ccd-be4f-f9dd5259ee14",
   "metadata": {
    "tags": []
   },
   "outputs": [],
   "source": [
    "encoded_val = []\n",
    "for _, row in val_df.iterrows():\n",
    "    add_enc = {}\n",
    "    encoding = tokenizer(row['init_text'], padding=\"max_length\", truncation=True, max_length=512) \n",
    "    ids = encoding['input_ids']\n",
    "    mask = encoding['attention_mask']\n",
    "\n",
    "    label_mlb = mlb.transform([row['label']])[0]\n",
    "    add_enc = {\n",
    "        'input_ids': torch.tensor(ids, dtype=torch.long),\n",
    "        'attention_mask': torch.tensor(mask, dtype=torch.long),\n",
    "        'labels': torch.tensor(label_mlb, dtype=torch.float)\n",
    "    }\n",
    "    \n",
    "    encoded_val.append(add_enc)"
   ]
  },
  {
   "cell_type": "code",
   "execution_count": 11,
   "id": "e9b7b814-6583-47c4-aa8a-bdbb65d39cd8",
   "metadata": {
    "tags": []
   },
   "outputs": [
    {
     "name": "stderr",
     "output_type": "stream",
     "text": [
      "Some weights of the model checkpoint at distilbert-base-uncased were not used when initializing DistilBertForSequenceClassification: ['vocab_projector.bias', 'vocab_transform.bias', 'vocab_layer_norm.weight', 'vocab_projector.weight', 'vocab_transform.weight', 'vocab_layer_norm.bias']\n",
      "- This IS expected if you are initializing DistilBertForSequenceClassification from the checkpoint of a model trained on another task or with another architecture (e.g. initializing a BertForSequenceClassification model from a BertForPreTraining model).\n",
      "- This IS NOT expected if you are initializing DistilBertForSequenceClassification from the checkpoint of a model that you expect to be exactly identical (initializing a BertForSequenceClassification model from a BertForSequenceClassification model).\n",
      "Some weights of DistilBertForSequenceClassification were not initialized from the model checkpoint at distilbert-base-uncased and are newly initialized: ['classifier.bias', 'classifier.weight', 'pre_classifier.bias', 'pre_classifier.weight']\n",
      "You should probably TRAIN this model on a down-stream task to be able to use it for predictions and inference.\n"
     ]
    }
   ],
   "source": [
    "from transformers import AutoModelForSequenceClassification\n",
    "\n",
    "model = AutoModelForSequenceClassification.from_pretrained(model_name,\n",
    "                                                           problem_type=\"multi_label_classification\",\n",
    "                                                           num_labels=len(list(mlb.classes_)),\n",
    "                                                           id2label=id2label,\n",
    "                                                           label2id=label2id)"
   ]
  },
  {
   "cell_type": "code",
   "execution_count": 12,
   "id": "af0e77fe-5755-4738-beee-d167a05896b2",
   "metadata": {
    "tags": []
   },
   "outputs": [],
   "source": [
    "batch_size = 8\n",
    "metric_name = \"f1\""
   ]
  },
  {
   "cell_type": "code",
   "execution_count": 13,
   "id": "2300d6c6-4aff-484a-970e-a807bad4471e",
   "metadata": {
    "tags": []
   },
   "outputs": [],
   "source": [
    "from transformers import TrainingArguments, Trainer\n",
    "\n",
    "args = TrainingArguments(\n",
    "    f\"distilbert_model\",\n",
    "    evaluation_strategy = \"epoch\",\n",
    "    save_strategy = \"epoch\",\n",
    "    learning_rate=2e-5,\n",
    "    per_device_train_batch_size=batch_size,\n",
    "    per_device_eval_batch_size=batch_size,\n",
    "    num_train_epochs=5,\n",
    "    weight_decay=0.01,\n",
    "    load_best_model_at_end=True,\n",
    "    metric_for_best_model=metric_name,\n",
    "    #push_to_hub=True,\n",
    ")"
   ]
  },
  {
   "cell_type": "code",
   "execution_count": 14,
   "id": "37952087-7786-4ed7-8716-e0eb15fc468c",
   "metadata": {
    "tags": []
   },
   "outputs": [],
   "source": [
    "from sklearn.metrics import f1_score, roc_auc_score, accuracy_score\n",
    "from transformers import EvalPrediction\n",
    "import torch\n",
    "\n",
    "def multi_label_metrics(predictions, labels, threshold=0.5):\n",
    "    sigmoid = torch.nn.Sigmoid()\n",
    "    probs = sigmoid(torch.Tensor(predictions))\n",
    "    y_pred = np.zeros(probs.shape)\n",
    "    y_pred[np.where(probs >= threshold)] = 1\n",
    "\n",
    "    y_true = labels\n",
    "    f1_micro_average = f1_score(y_true=y_true, y_pred=y_pred, average='micro')\n",
    "    roc_auc = roc_auc_score(y_true, y_pred, average = 'micro')\n",
    "    accuracy = accuracy_score(y_true, y_pred)\n",
    "    \n",
    "    metrics = {'f1': f1_micro_average,\n",
    "               'roc_auc': roc_auc,\n",
    "               'accuracy': accuracy}\n",
    "    return metrics\n",
    "\n",
    "def compute_metrics(p: EvalPrediction):\n",
    "    preds = p.predictions[0] if isinstance(p.predictions,\n",
    "            tuple) else p.predictions\n",
    "    result = multi_label_metrics(\n",
    "        predictions=preds,\n",
    "        labels=p.label_ids)\n",
    "    return result"
   ]
  },
  {
   "cell_type": "code",
   "execution_count": 15,
   "id": "98a03d51-93b1-4126-9bef-51168f766dec",
   "metadata": {
    "tags": []
   },
   "outputs": [],
   "source": [
    "trainer = Trainer(\n",
    "    model,\n",
    "    args,\n",
    "    train_dataset=encoded,\n",
    "    eval_dataset=encoded_val,\n",
    "    tokenizer=tokenizer,\n",
    "    compute_metrics=compute_metrics\n",
    ")"
   ]
  },
  {
   "cell_type": "code",
   "execution_count": 16,
   "id": "0fca6e71-c24b-4a73-85e7-8c18eaf27385",
   "metadata": {
    "tags": []
   },
   "outputs": [
    {
     "name": "stderr",
     "output_type": "stream",
     "text": [
      "/opt/conda/lib/python3.7/site-packages/transformers/optimization.py:310: FutureWarning: This implementation of AdamW is deprecated and will be removed in a future version. Use the PyTorch implementation torch.optim.AdamW instead, or set `no_deprecation_warning=True` to disable this warning\n",
      "  FutureWarning,\n",
      "***** Running training *****\n",
      "  Num examples = 31838\n",
      "  Num Epochs = 5\n",
      "  Instantaneous batch size per device = 8\n",
      "  Total train batch size (w. parallel, distributed & accumulation) = 8\n",
      "  Gradient Accumulation steps = 1\n",
      "  Total optimization steps = 19900\n"
     ]
    },
    {
     "data": {
      "text/html": [
       "\n",
       "    <div>\n",
       "      \n",
       "      <progress value='19900' max='19900' style='width:300px; height:20px; vertical-align: middle;'></progress>\n",
       "      [19900/19900 50:21, Epoch 5/5]\n",
       "    </div>\n",
       "    <table border=\"1\" class=\"dataframe\">\n",
       "  <thead>\n",
       " <tr style=\"text-align: left;\">\n",
       "      <th>Epoch</th>\n",
       "      <th>Training Loss</th>\n",
       "      <th>Validation Loss</th>\n",
       "      <th>F1</th>\n",
       "      <th>Roc Auc</th>\n",
       "      <th>Accuracy</th>\n",
       "    </tr>\n",
       "  </thead>\n",
       "  <tbody>\n",
       "    <tr>\n",
       "      <td>1</td>\n",
       "      <td>0.082200</td>\n",
       "      <td>0.071271</td>\n",
       "      <td>0.741995</td>\n",
       "      <td>0.832062</td>\n",
       "      <td>0.670737</td>\n",
       "    </tr>\n",
       "    <tr>\n",
       "      <td>2</td>\n",
       "      <td>0.064300</td>\n",
       "      <td>0.065189</td>\n",
       "      <td>0.763177</td>\n",
       "      <td>0.848310</td>\n",
       "      <td>0.701377</td>\n",
       "    </tr>\n",
       "    <tr>\n",
       "      <td>3</td>\n",
       "      <td>0.053800</td>\n",
       "      <td>0.062899</td>\n",
       "      <td>0.772069</td>\n",
       "      <td>0.854159</td>\n",
       "      <td>0.713588</td>\n",
       "    </tr>\n",
       "    <tr>\n",
       "      <td>4</td>\n",
       "      <td>0.046500</td>\n",
       "      <td>0.063918</td>\n",
       "      <td>0.775012</td>\n",
       "      <td>0.859026</td>\n",
       "      <td>0.722247</td>\n",
       "    </tr>\n",
       "    <tr>\n",
       "      <td>5</td>\n",
       "      <td>0.038600</td>\n",
       "      <td>0.064722</td>\n",
       "      <td>0.779467</td>\n",
       "      <td>0.865827</td>\n",
       "      <td>0.732682</td>\n",
       "    </tr>\n",
       "  </tbody>\n",
       "</table><p>"
      ],
      "text/plain": [
       "<IPython.core.display.HTML object>"
      ]
     },
     "metadata": {},
     "output_type": "display_data"
    },
    {
     "name": "stderr",
     "output_type": "stream",
     "text": [
      "***** Running Evaluation *****\n",
      "  Num examples = 4504\n",
      "  Batch size = 8\n",
      "Saving model checkpoint to bert-finetuned-sem_eval-english/checkpoint-3980\n",
      "Configuration saved in bert-finetuned-sem_eval-english/checkpoint-3980/config.json\n",
      "Model weights saved in bert-finetuned-sem_eval-english/checkpoint-3980/pytorch_model.bin\n",
      "tokenizer config file saved in bert-finetuned-sem_eval-english/checkpoint-3980/tokenizer_config.json\n",
      "Special tokens file saved in bert-finetuned-sem_eval-english/checkpoint-3980/special_tokens_map.json\n",
      "***** Running Evaluation *****\n",
      "  Num examples = 4504\n",
      "  Batch size = 8\n",
      "Saving model checkpoint to bert-finetuned-sem_eval-english/checkpoint-7960\n",
      "Configuration saved in bert-finetuned-sem_eval-english/checkpoint-7960/config.json\n",
      "Model weights saved in bert-finetuned-sem_eval-english/checkpoint-7960/pytorch_model.bin\n",
      "tokenizer config file saved in bert-finetuned-sem_eval-english/checkpoint-7960/tokenizer_config.json\n",
      "Special tokens file saved in bert-finetuned-sem_eval-english/checkpoint-7960/special_tokens_map.json\n",
      "***** Running Evaluation *****\n",
      "  Num examples = 4504\n",
      "  Batch size = 8\n",
      "Saving model checkpoint to bert-finetuned-sem_eval-english/checkpoint-11940\n",
      "Configuration saved in bert-finetuned-sem_eval-english/checkpoint-11940/config.json\n",
      "Model weights saved in bert-finetuned-sem_eval-english/checkpoint-11940/pytorch_model.bin\n",
      "tokenizer config file saved in bert-finetuned-sem_eval-english/checkpoint-11940/tokenizer_config.json\n",
      "Special tokens file saved in bert-finetuned-sem_eval-english/checkpoint-11940/special_tokens_map.json\n",
      "***** Running Evaluation *****\n",
      "  Num examples = 4504\n",
      "  Batch size = 8\n",
      "Saving model checkpoint to bert-finetuned-sem_eval-english/checkpoint-15920\n",
      "Configuration saved in bert-finetuned-sem_eval-english/checkpoint-15920/config.json\n",
      "Model weights saved in bert-finetuned-sem_eval-english/checkpoint-15920/pytorch_model.bin\n",
      "tokenizer config file saved in bert-finetuned-sem_eval-english/checkpoint-15920/tokenizer_config.json\n",
      "Special tokens file saved in bert-finetuned-sem_eval-english/checkpoint-15920/special_tokens_map.json\n",
      "***** Running Evaluation *****\n",
      "  Num examples = 4504\n",
      "  Batch size = 8\n",
      "Saving model checkpoint to bert-finetuned-sem_eval-english/checkpoint-19900\n",
      "Configuration saved in bert-finetuned-sem_eval-english/checkpoint-19900/config.json\n",
      "Model weights saved in bert-finetuned-sem_eval-english/checkpoint-19900/pytorch_model.bin\n",
      "tokenizer config file saved in bert-finetuned-sem_eval-english/checkpoint-19900/tokenizer_config.json\n",
      "Special tokens file saved in bert-finetuned-sem_eval-english/checkpoint-19900/special_tokens_map.json\n",
      "\n",
      "\n",
      "Training completed. Do not forget to share your model on huggingface.co/models =)\n",
      "\n",
      "\n",
      "Loading best model from bert-finetuned-sem_eval-english/checkpoint-19900 (score: 0.779466791393826).\n"
     ]
    },
    {
     "data": {
      "text/plain": [
       "TrainOutput(global_step=19900, training_loss=0.06460535936020127, metrics={'train_runtime': 3022.6264, 'train_samples_per_second': 52.666, 'train_steps_per_second': 6.584, 'total_flos': 2.10942543685632e+16, 'train_loss': 0.06460535936020127, 'epoch': 5.0})"
      ]
     },
     "execution_count": 16,
     "metadata": {},
     "output_type": "execute_result"
    }
   ],
   "source": [
    "trainer.train()"
   ]
  }
 ],
 "metadata": {
  "kernelspec": {
   "display_name": "Python 3 (ipykernel)",
   "language": "python",
   "name": "python3"
  },
  "language_info": {
   "codemirror_mode": {
    "name": "ipython",
    "version": 3
   },
   "file_extension": ".py",
   "mimetype": "text/x-python",
   "name": "python",
   "nbconvert_exporter": "python",
   "pygments_lexer": "ipython3",
   "version": "3.10.9"
  }
 },
 "nbformat": 4,
 "nbformat_minor": 5
}
